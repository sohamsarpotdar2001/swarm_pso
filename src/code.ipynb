{
 "cells": [
  {
   "cell_type": "code",
   "execution_count": 12,
   "metadata": {},
   "outputs": [],
   "source": [
    "import rospy\n",
    "import numpy as np\n",
    "from matplotlib import pyplot\n",
    "import math as m\n",
    "import random\n",
    "import pandas as pd\n",
    "\n"
   ]
  },
  {
   "cell_type": "code",
   "execution_count": 11,
   "metadata": {},
   "outputs": [],
   "source": [
    "class params:\n",
    "    # Constriction coefficients\n",
    "    kappa = 1\n",
    "    phi1 = 2.05\n",
    "    phi2 = 2.05\n",
    "    phi = phi1 + phi2\n",
    "    chi = 1.37              # 2*kappa/abs(2-phi-m.sqrt(phi**2-4*phi))\n",
    "\n",
    "    # other params\n",
    "    max_iter = 2         # maximum number of iterations\n",
    "    nPart = 5               # no of drones/particles\n",
    "    w = chi                 # inertia coefficient\n",
    "    wdamp = 1               # damping coefficent for inertia\n",
    "    c1 = chi*phi1           # personal acceleration coefficient\n",
    "    c2 = chi*phi2           # social acceleration coefficient\n",
    "    showIterinfo = True     # Flag for showing iteration information\n",
    "\n",
    "class particle(params):\n",
    "    position = np.ndarray(shape=(params.nPart,3),dtype=np.uint32)                     \n",
    "    velocity = np.ndarray(shape=(params.nPart,3),dtype=np.uint32)                   \n",
    "    cost = np.ndarray(shape=(params.nPart,1),dtype=np.uint32)                  \n",
    "    Best_cost = np.ndarray(shape=(params.nPart,1),dtype=np.uint32)          \n",
    "    Best_position = np.ndarray(shape=(params.nPart,3),dtype=np.uint32)          \n",
    "    Global_best_cost = m.inf\n",
    "    Global_best_position = np.ndarray(shape=(params.nPart,3),dtype=np.uint32)\n",
    "\n",
    "    df1=pd.DataFrame(position, columns=['x','y','z'])\n",
    "    df2=pd.DataFrame(velocity, columns=['velx','vely','velz'])\n",
    "    df3=pd.DataFrame(cost, columns=['Cost'])\n",
    "    df4=pd.DataFrame(Best_cost, columns=['Best Cost'])\n",
    "    df5=pd.DataFrame(Best_position, columns=['Best_x','Best_y','Best_z'])\n",
    "    # df6=pd.DataFrame(Global_best_cost, columns='Global_Cost') \n",
    "    df7=pd.DataFrame(Global_best_position, columns=['Global_x','Global_y','Global_z'])\n",
    "\n",
    "    data = pd.concat([df1, df2, df3, df4,df5,df7], axis=1)"
   ]
  },
  {
   "cell_type": "code",
   "execution_count": 19,
   "metadata": {},
   "outputs": [
    {
     "name": "stdout",
     "output_type": "stream",
     "text": [
      "3 4\n",
      "3 6\n",
      "3 9\n",
      "3 4\n",
      "3 8\n",
      "3 9\n",
      "3 9\n",
      "3 9\n",
      "3 9\n",
      "3 10\n",
      "3 5\n",
      "3 2\n",
      "3 3\n",
      "3 5\n",
      "3 5\n"
     ]
    },
    {
     "ename": "ValueError",
     "evalue": "could not broadcast input array from shape (3,) into shape (1,)",
     "output_type": "error",
     "traceback": [
      "\u001b[0;31m---------------------------------------------------------------------------\u001b[0m",
      "\u001b[0;31mValueError\u001b[0m                                Traceback (most recent call last)",
      "\u001b[0;32m<ipython-input-19-76020115d141>\u001b[0m in \u001b[0;36m<module>\u001b[0;34m\u001b[0m\n\u001b[1;32m     60\u001b[0m \u001b[0;32mif\u001b[0m \u001b[0m__name__\u001b[0m \u001b[0;34m==\u001b[0m \u001b[0;34m\"__main__\"\u001b[0m\u001b[0;34m:\u001b[0m\u001b[0;34m\u001b[0m\u001b[0;34m\u001b[0m\u001b[0m\n\u001b[1;32m     61\u001b[0m     \u001b[0moptimize\u001b[0m \u001b[0;34m=\u001b[0m \u001b[0mPSO\u001b[0m\u001b[0;34m(\u001b[0m\u001b[0;34m)\u001b[0m\u001b[0;34m\u001b[0m\u001b[0;34m\u001b[0m\u001b[0m\n\u001b[0;32m---> 62\u001b[0;31m     \u001b[0moptimize\u001b[0m\u001b[0;34m.\u001b[0m\u001b[0mmain\u001b[0m\u001b[0;34m(\u001b[0m\u001b[0;34m)\u001b[0m\u001b[0;34m\u001b[0m\u001b[0;34m\u001b[0m\u001b[0m\n\u001b[0m",
      "\u001b[0;32m<ipython-input-19-76020115d141>\u001b[0m in \u001b[0;36mmain\u001b[0;34m(self)\u001b[0m\n\u001b[1;32m     36\u001b[0m         \u001b[0;32mfor\u001b[0m \u001b[0mj\u001b[0m \u001b[0;32min\u001b[0m \u001b[0mrange\u001b[0m\u001b[0;34m(\u001b[0m\u001b[0mparams\u001b[0m\u001b[0;34m.\u001b[0m\u001b[0mmax_iter\u001b[0m\u001b[0;34m)\u001b[0m\u001b[0;34m:\u001b[0m\u001b[0;34m\u001b[0m\u001b[0;34m\u001b[0m\u001b[0m\n\u001b[1;32m     37\u001b[0m             \u001b[0;32mfor\u001b[0m \u001b[0mi\u001b[0m \u001b[0;32min\u001b[0m \u001b[0mrange\u001b[0m\u001b[0;34m(\u001b[0m\u001b[0mparams\u001b[0m\u001b[0;34m.\u001b[0m\u001b[0mnPart\u001b[0m\u001b[0;34m)\u001b[0m\u001b[0;34m:\u001b[0m\u001b[0;34m\u001b[0m\u001b[0;34m\u001b[0m\u001b[0m\n\u001b[0;32m---> 38\u001b[0;31m                 \u001b[0mparticle\u001b[0m\u001b[0;34m.\u001b[0m\u001b[0mvelocity\u001b[0m\u001b[0;34m[\u001b[0m\u001b[0mi\u001b[0m\u001b[0;34m,\u001b[0m\u001b[0;34m:\u001b[0m\u001b[0;34m]\u001b[0m \u001b[0;34m=\u001b[0m \u001b[0mparams\u001b[0m\u001b[0;34m.\u001b[0m\u001b[0mw\u001b[0m \u001b[0;34m*\u001b[0m \u001b[0mparticle\u001b[0m\u001b[0;34m.\u001b[0m\u001b[0mvelocity\u001b[0m\u001b[0;34m[\u001b[0m\u001b[0mi\u001b[0m\u001b[0;34m,\u001b[0m\u001b[0;34m:\u001b[0m\u001b[0;34m]\u001b[0m \u001b[0;34m+\u001b[0m \u001b[0mparams\u001b[0m\u001b[0;34m.\u001b[0m\u001b[0mc1\u001b[0m \u001b[0;34m*\u001b[0m \u001b[0mrandom\u001b[0m\u001b[0;34m.\u001b[0m\u001b[0mrandint\u001b[0m\u001b[0;34m(\u001b[0m\u001b[0;36m1\u001b[0m\u001b[0;34m,\u001b[0m\u001b[0mself\u001b[0m\u001b[0;34m.\u001b[0m\u001b[0mnvar\u001b[0m\u001b[0;34m)\u001b[0m \u001b[0;34m*\u001b[0m \u001b[0mnp\u001b[0m\u001b[0;34m.\u001b[0m\u001b[0msubtract\u001b[0m\u001b[0;34m(\u001b[0m\u001b[0mparticle\u001b[0m\u001b[0;34m.\u001b[0m\u001b[0mBest_position\u001b[0m\u001b[0;34m[\u001b[0m\u001b[0mi\u001b[0m\u001b[0;34m,\u001b[0m\u001b[0;34m:\u001b[0m\u001b[0;34m]\u001b[0m\u001b[0;34m,\u001b[0m\u001b[0mparticle\u001b[0m\u001b[0;34m.\u001b[0m\u001b[0mposition\u001b[0m\u001b[0;34m[\u001b[0m\u001b[0mi\u001b[0m\u001b[0;34m,\u001b[0m\u001b[0;34m:\u001b[0m\u001b[0;34m]\u001b[0m\u001b[0;34m)\u001b[0m \u001b[0;34m+\u001b[0m \u001b[0mparams\u001b[0m\u001b[0;34m.\u001b[0m\u001b[0mc2\u001b[0m \u001b[0;34m*\u001b[0m \u001b[0mrandom\u001b[0m\u001b[0;34m.\u001b[0m\u001b[0mrandint\u001b[0m\u001b[0;34m(\u001b[0m\u001b[0;36m1\u001b[0m\u001b[0;34m,\u001b[0m\u001b[0mself\u001b[0m\u001b[0;34m.\u001b[0m\u001b[0mnvar\u001b[0m\u001b[0;34m)\u001b[0m \u001b[0;34m*\u001b[0m \u001b[0mnp\u001b[0m\u001b[0;34m.\u001b[0m\u001b[0msubtract\u001b[0m\u001b[0;34m(\u001b[0m\u001b[0mparticle\u001b[0m\u001b[0;34m.\u001b[0m\u001b[0mGlobal_best_position\u001b[0m\u001b[0;34m[\u001b[0m\u001b[0mi\u001b[0m\u001b[0;34m,\u001b[0m\u001b[0;34m:\u001b[0m\u001b[0;34m]\u001b[0m\u001b[0;34m,\u001b[0m\u001b[0mparticle\u001b[0m\u001b[0;34m.\u001b[0m\u001b[0mposition\u001b[0m\u001b[0;34m[\u001b[0m\u001b[0mi\u001b[0m\u001b[0;34m,\u001b[0m\u001b[0;34m:\u001b[0m\u001b[0;34m]\u001b[0m\u001b[0;34m)\u001b[0m\u001b[0;34m\u001b[0m\u001b[0;34m\u001b[0m\u001b[0m\n\u001b[0m\u001b[1;32m     39\u001b[0m \u001b[0;34m\u001b[0m\u001b[0m\n\u001b[1;32m     40\u001b[0m                 \u001b[0mparticle\u001b[0m\u001b[0;34m.\u001b[0m\u001b[0mposition\u001b[0m\u001b[0;34m[\u001b[0m\u001b[0mi\u001b[0m\u001b[0;34m,\u001b[0m\u001b[0;34m:\u001b[0m\u001b[0;34m]\u001b[0m \u001b[0;34m+=\u001b[0m \u001b[0mparticle\u001b[0m\u001b[0;34m.\u001b[0m\u001b[0mvelocity\u001b[0m\u001b[0;34m[\u001b[0m\u001b[0mi\u001b[0m\u001b[0;34m,\u001b[0m\u001b[0;34m:\u001b[0m\u001b[0;34m]\u001b[0m\u001b[0;34m\u001b[0m\u001b[0;34m\u001b[0m\u001b[0m\n",
      "\u001b[0;31mValueError\u001b[0m: could not broadcast input array from shape (3,) into shape (1,)"
     ]
    }
   ],
   "source": [
    "class PSO(particle):\n",
    "    def __init__(self):\n",
    "        # rospy.init_node(\"pso_search\", anonymous=True)\n",
    "        # self.Rate = rospy.rate(10)\n",
    "        self.nvar = 3\n",
    "        self.varMin = 0\n",
    "        self.varMax = 10\n",
    "        self.goal = np.array([3,3,3])\n",
    "\n",
    "    # Cost function to minimize the distance error \n",
    "    # between the goal and current position of each drone\n",
    "    def costfn(self,position):\n",
    "        cost = 0\n",
    "        for i in range(len(position)):\n",
    "            cost += np.subtract(self.goal[i],position[i])\n",
    "            print(self.goal[i],position[i])\n",
    "\n",
    "        return cost\n",
    "    \n",
    "    def initialization(self):\n",
    "        for i in range(params.nPart):\n",
    "            particle.position[i,:] = np.array([random.randint(self.varMin,self.varMax),random.randint(self.varMin,self.varMax),random.randint(self.varMin,self.varMax)])\n",
    "            particle.cost[i] = self.costfn(particle.position[i,:])\n",
    "            particle.Best_cost[i] = particle.cost[i]\n",
    "            particle.Best_position[i,:] = particle.position[i,:]\n",
    "\n",
    "            if particle.cost[i] < particle.Global_best_cost:\n",
    "                particle.Global_best_cost = particle.cost[i]\n",
    "                particle.Global_best_position[i,:] = particle.position[i,:]\n",
    "                # print(particle.cost[i])\n",
    "        \n",
    "        self.Bestcosts = np.zeros(shape=(params.max_iter,1))\n",
    "\n",
    "    def main(self):\n",
    "        self.initialization()\n",
    "        for j in range(params.max_iter):\n",
    "            for i in range(params.nPart):\n",
    "                particle.velocity[i,:] = params.w * particle.velocity[i,:] + params.c1 * random.randint(1,self.nvar) * np.subtract(particle.Best_position[i,:],particle.position[i,:]) + params.c2 * random.randint(1,self.nvar) * np.subtract(particle.Global_best_position[i,:],particle.position[i,:])\n",
    "\n",
    "                particle.position[i,:] += particle.velocity[i,:]\n",
    "\n",
    "                particle.cost[i] = self.costfn(particle.position[i,:])\n",
    "\n",
    "                if particle.cost[i] < particle.Best_cost[i]:\n",
    "                    particle.Best_cost[i] = particle.cost[i]\n",
    "                    particle.Best_position[i,:] = particle.position[i,:]\n",
    "\n",
    "                    if particle.Best_cost[i] < particle.Global_best_cost:\n",
    "                        particle.Global_best_cost = particle.Best_cost[i]\n",
    "                        particle.Global_best_position[i,:] = particle.position[i,:]\n",
    "        \n",
    "            self.Bestcosts[j] = particle.Global_best_cost\n",
    "\n",
    "            if params.showIterinfo:\n",
    "                # print(\"Iteration\",str(j),\": Best Cost\",str(self.Bestcosts[j]))\n",
    "                pass\n",
    "\n",
    "            params.w *= params.wdamp\n",
    "\n",
    "if __name__ == \"__main__\":\n",
    "    optimize = PSO()\n",
    "    optimize.main()"
   ]
  },
  {
   "cell_type": "code",
   "execution_count": 5,
   "metadata": {},
   "outputs": [],
   "source": [
    "\n",
    "particle = particle()\n",
    "df1=pd.DataFrame(particle.position)\n",
    "df2=pd.DataFrame(particle.velocity)\n",
    "df3=pd.DataFrame(particle.cost)\n",
    "df4=pd.DataFrame(particle.Best_cost)\n",
    "df5=pd.DataFrame(particle.Best_position)\n",
    "#df6=pd.DataFrame(particle.Global_best_cost) \n",
    "df7=pd.DataFrame(particle.Global_best_position)"
   ]
  },
  {
   "cell_type": "code",
   "execution_count": 6,
   "metadata": {},
   "outputs": [],
   "source": [
    "df1.columns=['x','y','z']\n",
    "df2.columns=['v']\n",
    "df3.columns=['cost']\n",
    "df4.columns=['bestcost']\n",
    "df5.columns=['posx','posy','posz']"
   ]
  },
  {
   "cell_type": "code",
   "execution_count": 10,
   "metadata": {},
   "outputs": [
    {
     "data": {
      "text/plain": [
       "0    0\n",
       "1    0\n",
       "2    0\n",
       "3    0\n",
       "4    0\n",
       "Name: posz, dtype: uint32"
      ]
     },
     "execution_count": 10,
     "metadata": {},
     "output_type": "execute_result"
    }
   ],
   "source": [
    "merged_df = pd.concat([df1, df2, df3, df4], axis=1)\n",
    "# merged_df.iloc[0:5,3:5]\n",
    "df5['posz']"
   ]
  },
  {
   "cell_type": "code",
   "execution_count": 61,
   "metadata": {},
   "outputs": [
    {
     "data": {
      "text/plain": [
       "[   x  y  z\n",
       " 0  0  0  0\n",
       " 1  0  0  0\n",
       " 2  0  0  0\n",
       " 3  0  0  0\n",
       " 4  0  0  0,\n",
       "    v\n",
       " 0  0\n",
       " 1  0\n",
       " 2  0\n",
       " 3  0\n",
       " 4  0,\n",
       "    cost\n",
       " 0     0\n",
       " 1     0\n",
       " 2     0\n",
       " 3     0\n",
       " 4     0,\n",
       "    bestcost\n",
       " 0         0\n",
       " 1         0\n",
       " 2         0\n",
       " 3         0\n",
       " 4         0]"
      ]
     },
     "execution_count": 61,
     "metadata": {},
     "output_type": "execute_result"
    }
   ],
   "source": [
    "df"
   ]
  },
  {
   "cell_type": "code",
   "execution_count": 64,
   "metadata": {},
   "outputs": [
    {
     "name": "stdout",
     "output_type": "stream",
     "text": [
      "  data       metrics              \n",
      "     x  y  z       v cost bestcost\n",
      "0    1  3  5       7    9       11\n",
      "1    2  4  6       8   10       12\n"
     ]
    }
   ],
   "source": [
    "import pandas as pd\n",
    "\n",
    "# Sample data (assuming all DataFrames have the same number of rows)\n",
    "df1 = pd.DataFrame({'x': [1, 2], 'y': [3, 4], 'z': [5, 6]})\n",
    "df2 = pd.DataFrame({'v': [7, 8]})\n",
    "df3 = pd.DataFrame({'cost': [9, 10]})\n",
    "df4 = pd.DataFrame({'bestcost': [11, 12]})\n",
    "\n",
    "# Concatenating the DataFrames\n",
    "merged_df = pd.concat([df1, df2, df3, df4], axis=1)\n",
    "\n",
    "# Creating a MultiIndex for columns\n",
    "merged_df.columns = pd.MultiIndex.from_tuples([\n",
    "    ('data', 'x'), ('data', 'y'), ('data', 'z'),\n",
    "    ('metrics', 'v'), ('metrics', 'cost'), ('metrics', 'bestcost')\n",
    "])\n",
    "\n",
    "# Displaying the DataFrame with multi-level columns\n",
    "print(merged_df)\n"
   ]
  }
 ],
 "metadata": {
  "kernelspec": {
   "display_name": "Python 3",
   "language": "python",
   "name": "python3"
  },
  "language_info": {
   "codemirror_mode": {
    "name": "ipython",
    "version": 3
   },
   "file_extension": ".py",
   "mimetype": "text/x-python",
   "name": "python",
   "nbconvert_exporter": "python",
   "pygments_lexer": "ipython3",
   "version": "3.8.10"
  }
 },
 "nbformat": 4,
 "nbformat_minor": 2
}
